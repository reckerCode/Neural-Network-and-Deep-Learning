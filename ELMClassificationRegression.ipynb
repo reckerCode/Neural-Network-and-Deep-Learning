{
  "nbformat": 4,
  "nbformat_minor": 0,
  "metadata": {
    "colab": {
      "name": "MLassignment2part2.ipynb",
      "provenance": [],
      "collapsed_sections": []
    },
    "kernelspec": {
      "name": "python3",
      "display_name": "Python 3"
    }
  },
  "cells": [
    {
      "cell_type": "code",
      "metadata": {
        "id": "En78OY3hK35R"
      },
      "source": [
        "import numpy as np\n",
        "import pandas as pd\n",
        "import math \n",
        "import keras\n",
        "from keras.datasets import cifar10\n",
        "from keras.datasets import mnist\n",
        "import time as t\n",
        "from sklearn.preprocessing import OneHotEncoder\n",
        "from sklearn.preprocessing import MinMaxScaler\n",
        "from sklearn.preprocessing import StandardScaler\n",
        "from scipy.linalg import pinv2\n",
        "from keras.utils import to_categorical"
      ],
      "execution_count": 1,
      "outputs": []
    },
    {
      "cell_type": "code",
      "metadata": {
        "id": "Qzg5--29Pqb7",
        "colab": {
          "base_uri": "https://localhost:8080/"
        },
        "outputId": "2cd82275-4711-42cb-e1a8-084d429bf085"
      },
      "source": [
        "(xtrain, ytrain), (xtest, ytest) = mnist.load_data()\n",
        "y_train = to_categorical(ytrain)\n",
        "y_test = to_categorical(ytest)\n",
        "xtrain = xtrain.reshape(-1, 784)\n",
        "xtest = xtest.reshape(-1, 784)\n",
        "b = 0.02"
      ],
      "execution_count": 2,
      "outputs": [
        {
          "output_type": "stream",
          "text": [
            "Downloading data from https://storage.googleapis.com/tensorflow/tf-keras-datasets/mnist.npz\n",
            "11493376/11490434 [==============================] - 0s 0us/step\n"
          ],
          "name": "stdout"
        }
      ]
    },
    {
      "cell_type": "code",
      "metadata": {
        "id": "grmckd5xQYbH"
      },
      "source": [
        "def predict(inputs,w):\n",
        "    inputs = inputs.astype(float)\n",
        "    output = sig(np.dot(inputs, w) + b) \n",
        "    return output\n",
        "\n",
        "def sig(x):\n",
        "    act = 1/(1+np.exp(-x))\n",
        "    return act\n",
        "\n",
        "def accuracy(originalLabel,predicted):\n",
        "  cor = 0\n",
        "  t = predicted.shape[0]\n",
        "  for i in range(t):\n",
        "    p = np.argmax(predicted[i])\n",
        "    atl = np.argmax(originalLabel[i])\n",
        "    cor += 1 if p == atl else 0\n",
        "  accuracy = cor/t \n",
        "  return accuracy"
      ],
      "execution_count": 3,
      "outputs": []
    },
    {
      "cell_type": "code",
      "metadata": {
        "id": "17_j6ziAQf23"
      },
      "source": [
        "def elmclassifier(xtrain,ytrain):  \n",
        "    lMax = 10\n",
        "    E = ytrain\n",
        "    l = 0\n",
        "    defAccuracy = 0.8\n",
        "    while l < lMax :\n",
        "        l = l + 1\n",
        "        hmat = np.zeros(shape = (xtrain.shape[0],l))\n",
        "        for row in xtrain:\n",
        "           k=0\n",
        "           row = np.reshape(row, (1,np.product(row.shape)))\n",
        "           h = []\n",
        "           for i in range(l):\n",
        "               w = np.random.random((xtrain.shape[1],1))\n",
        "               op = predict(row,w)\n",
        "               h.append(op)  \n",
        "           h = np.reshape(h, (-1, l))  #l is 6 #this will generate 2d matrix of h\n",
        "           hmat[k] = h[0]\n",
        "           k = k + 1\n",
        "        beta = np.dot(np.linalg.pinv(hmat), ytrain)\n",
        "        E = E - np.dot(hmat,beta)\n",
        "        E = sig(E)\n",
        "        E[E > 0.5] = 1\n",
        "        E[E <= 0.5] = 0\n",
        "        acc = accuracy(ytrain,E)\n",
        "        error = math.sqrt( np.square(np.subtract(ytrain,E)).mean() )\n",
        "        if(acc > defAccuracy) :\n",
        "          print(\"Training Accuracy: \",acc*100,\"%\")\n",
        "          print(\"RMSE: \",error)\n",
        "        break   \n",
        "    return beta"
      ],
      "execution_count": 4,
      "outputs": []
    },
    {
      "cell_type": "code",
      "metadata": {
        "id": "_Tq7m0u5QsjI"
      },
      "source": [
        "def elmclasstest(xtest, ytest,b):\n",
        "    la = b.shape[0]\n",
        "    hmat = np.zeros(shape = (10000,la))\n",
        "    for row in xtest:\n",
        "       k=0\n",
        "       row = np.reshape(row, (1,np.product(row.shape)))\n",
        "       h = []\n",
        "       for i in range(la):\n",
        "           w = np.random.random((784,1))\n",
        "           op = predict(row,w)\n",
        "           h.append(op)\n",
        "       h = np.reshape(h, (-1, la))  #l is 6 #this will generate 2d matrix of h\n",
        "       hmat[k] = h[0]\n",
        "       k = k + 1  \n",
        "    o = sig(np.dot(hmat , b))\n",
        "    o[o > 0.5] = 1\n",
        "    o[o <= 0.5] = 0\n",
        "    acc = accuracy(ytest, o)\n",
        "    error = math.sqrt( np.square(np.subtract(ytest,o)).mean() )\n",
        "    print(\"Testing Accuracy\",acc*100,\"%\")\n",
        "    print(\"RMSE\",error)"
      ],
      "execution_count": 5,
      "outputs": []
    },
    {
      "cell_type": "code",
      "metadata": {
        "id": "BIRvGQ5oQwaK",
        "colab": {
          "base_uri": "https://localhost:8080/"
        },
        "outputId": "d277c776-7851-4c4e-8228-75f1cf1eff19"
      },
      "source": [
        "classtime = t.time()\n",
        "beta = elmclassifier(xtrain,ytrain)\n",
        "classtimeend = t.time()\n",
        "print(\"Classification Training time :\",abs(classtime-classtimeend))"
      ],
      "execution_count": 6,
      "outputs": [
        {
          "output_type": "stream",
          "text": [
            "Training Accuracy:  100.0 %\n",
            "RMSE:  4.492085632902977\n",
            "Classification Training time : 3.418935537338257\n"
          ],
          "name": "stdout"
        }
      ]
    },
    {
      "cell_type": "code",
      "metadata": {
        "id": "rUbQ-ok9ZUwL",
        "colab": {
          "base_uri": "https://localhost:8080/"
        },
        "outputId": "cd0f52b9-01a4-4f29-c19e-4424888733c4"
      },
      "source": [
        "classtime1 = t.time()\n",
        "elmclasstest(xtest, ytest,beta)\n",
        "classtimeend1 = t.time()\n",
        "print(\"Classification Testing time :\",abs(classtime1-classtimeend1))"
      ],
      "execution_count": 7,
      "outputs": [
        {
          "output_type": "stream",
          "text": [
            "Testing Accuracy 100.0 %\n",
            "RMSE 5.303555411231224\n",
            "Classification Testing time : 0.5421204566955566\n"
          ],
          "name": "stdout"
        }
      ]
    },
    {
      "cell_type": "code",
      "metadata": {
        "id": "pq0puv8JQqFQ"
      },
      "source": [
        "def elmregression(xtrain,ytrain):  \n",
        "    ytrain = sig(ytrain)\n",
        "    lMax = 20\n",
        "    E = ytrain\n",
        "    l = 0\n",
        "    defError = 0.1 \n",
        "    while l < lMax :\n",
        "        l = l + 1\n",
        "        hmat = np.zeros(shape = (xtrain.shape[0],l))\n",
        "        for row in xtrain:\n",
        "           k=0\n",
        "           row = np.reshape(row, (1,np.product(row.shape)))\n",
        "           h = []\n",
        "           for i in range(l):\n",
        "               w = np.random.random((xtrain.shape[1],1))\n",
        "               op = predict(row,w) \n",
        "               h.append(op)\n",
        "           h = np.reshape(h, (-1, l))  #l is 6 #this will generate 2d matrix of h\n",
        "           hmat[k] = h[0]\n",
        "           k = k + 1\n",
        "        beta = np.dot(np.linalg.pinv(hmat), ytrain)\n",
        "        E = E - np.dot(hmat,beta)\n",
        "        error = math.sqrt( np.square(np.subtract(ytrain,E)).mean() )\n",
        "        if(error < defError) :\n",
        "            print(\"Training RMSE: \",error)\n",
        "            break\n",
        "    return beta"
      ],
      "execution_count": 8,
      "outputs": []
    },
    {
      "cell_type": "code",
      "metadata": {
        "id": "Ua_ndiLVQuhV"
      },
      "source": [
        "def elmregtest(xtrain, ytrain,b):\n",
        "    ytrain = sig(ytrain)\n",
        "    l = b.shape[0]\n",
        "    hmat = np.zeros(shape = (xtrain.shape[0],l))\n",
        "    for row in xtrain:\n",
        "       k=0\n",
        "       row = np.reshape(row, (1,np.product(row.shape)))\n",
        "       h = []\n",
        "       for i in range(l):\n",
        "           w = np.random.random((xtrain.shape[1],1))\n",
        "           op = predict(row,w)\n",
        "           h.append(op)\n",
        "       h = np.reshape(h, (-1, l)) \n",
        "       hmat[k] = h[0]\n",
        "       k = k + 1 \n",
        "    sigm = sig(np.dot(hmat , b))\n",
        "    rmse =  math.sqrt( np.square(np.subtract(ytrain,sigm)).mean() )\n",
        "    print(\"Testing RMSE\",rmse)"
      ],
      "execution_count": 9,
      "outputs": []
    },
    {
      "cell_type": "code",
      "metadata": {
        "id": "4tFmbkt7A_5y",
        "colab": {
          "base_uri": "https://localhost:8080/",
          "height": 204
        },
        "outputId": "9d4db25f-a084-4aec-9bfa-032ffb13bcff"
      },
      "source": [
        "data = pd.read_csv(\"/content/Folds5x2_pp.csv\") \n",
        "data.head()"
      ],
      "execution_count": 12,
      "outputs": [
        {
          "output_type": "execute_result",
          "data": {
            "text/html": [
              "<div>\n",
              "<style scoped>\n",
              "    .dataframe tbody tr th:only-of-type {\n",
              "        vertical-align: middle;\n",
              "    }\n",
              "\n",
              "    .dataframe tbody tr th {\n",
              "        vertical-align: top;\n",
              "    }\n",
              "\n",
              "    .dataframe thead th {\n",
              "        text-align: right;\n",
              "    }\n",
              "</style>\n",
              "<table border=\"1\" class=\"dataframe\">\n",
              "  <thead>\n",
              "    <tr style=\"text-align: right;\">\n",
              "      <th></th>\n",
              "      <th>AT</th>\n",
              "      <th>V</th>\n",
              "      <th>AP</th>\n",
              "      <th>RH</th>\n",
              "      <th>PE</th>\n",
              "    </tr>\n",
              "  </thead>\n",
              "  <tbody>\n",
              "    <tr>\n",
              "      <th>0</th>\n",
              "      <td>8.34</td>\n",
              "      <td>40.77</td>\n",
              "      <td>1010.84</td>\n",
              "      <td>90.01</td>\n",
              "      <td>480.48</td>\n",
              "    </tr>\n",
              "    <tr>\n",
              "      <th>1</th>\n",
              "      <td>23.64</td>\n",
              "      <td>58.49</td>\n",
              "      <td>1011.40</td>\n",
              "      <td>74.20</td>\n",
              "      <td>445.75</td>\n",
              "    </tr>\n",
              "    <tr>\n",
              "      <th>2</th>\n",
              "      <td>29.74</td>\n",
              "      <td>56.90</td>\n",
              "      <td>1007.15</td>\n",
              "      <td>41.91</td>\n",
              "      <td>438.76</td>\n",
              "    </tr>\n",
              "    <tr>\n",
              "      <th>3</th>\n",
              "      <td>19.07</td>\n",
              "      <td>49.69</td>\n",
              "      <td>1007.22</td>\n",
              "      <td>76.79</td>\n",
              "      <td>453.09</td>\n",
              "    </tr>\n",
              "    <tr>\n",
              "      <th>4</th>\n",
              "      <td>11.80</td>\n",
              "      <td>40.66</td>\n",
              "      <td>1017.13</td>\n",
              "      <td>97.20</td>\n",
              "      <td>464.43</td>\n",
              "    </tr>\n",
              "  </tbody>\n",
              "</table>\n",
              "</div>"
            ],
            "text/plain": [
              "      AT      V       AP     RH      PE\n",
              "0   8.34  40.77  1010.84  90.01  480.48\n",
              "1  23.64  58.49  1011.40  74.20  445.75\n",
              "2  29.74  56.90  1007.15  41.91  438.76\n",
              "3  19.07  49.69  1007.22  76.79  453.09\n",
              "4  11.80  40.66  1017.13  97.20  464.43"
            ]
          },
          "metadata": {
            "tags": []
          },
          "execution_count": 12
        }
      ]
    },
    {
      "cell_type": "code",
      "metadata": {
        "id": "GO7CRvWmBhJa"
      },
      "source": [
        "xtrain = pd.DataFrame(data, columns = ['AT', 'V', 'AP','RH']).to_numpy()\n",
        "ytrain = pd.DataFrame(data, columns = ['PE']).to_numpy()\n",
        "aa, bb = ytrain.shape\n",
        "trainsamples = (int) (aa/2)\n",
        "testsamples = aa - trainsamples"
      ],
      "execution_count": 13,
      "outputs": []
    },
    {
      "cell_type": "code",
      "metadata": {
        "id": "p-w-VsB8Bon6",
        "colab": {
          "base_uri": "https://localhost:8080/"
        },
        "outputId": "e5fe5749-dc51-4ab2-e1e9-75bf8a65bc70"
      },
      "source": [
        "starttime = t.time()\n",
        "regb = elmregression(xtrain[0 : trainsamples,:],ytrain[0 : trainsamples,:])\n",
        "endtime = t.time()\n",
        "print(\"Regression training time :\",abs(starttime-endtime))\n",
        "starttime1 = t.time()\n",
        "elmregtest(xtrain[trainsamples: aa,:],ytrain[testsamples : aa,:],regb)\n",
        "endtime1 = t.time()\n",
        "print(\"Testing time for Regression :\",abs(starttime1 - endtime1))"
      ],
      "execution_count": 14,
      "outputs": [
        {
          "output_type": "stream",
          "text": [
            "Training RMSE:  0.014457873299156005\n",
            "Regression training time : 0.19895291328430176\n",
            "Testing RMSE 0.4999628601357075\n",
            "Testing time for Regression : 0.19101309776306152\n"
          ],
          "name": "stdout"
        }
      ]
    }
  ]
}