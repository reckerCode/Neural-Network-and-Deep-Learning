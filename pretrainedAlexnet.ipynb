{
  "nbformat": 4,
  "nbformat_minor": 0,
  "metadata": {
    "kernelspec": {
      "name": "python3",
      "display_name": "Python 3"
    },
    "language_info": {
      "pygments_lexer": "ipython3",
      "nbconvert_exporter": "python",
      "version": "3.6.4",
      "file_extension": ".py",
      "codemirror_mode": {
        "name": "ipython",
        "version": 3
      },
      "name": "python",
      "mimetype": "text/x-python"
    },
    "colab": {
      "name": "pretrained_alexnetcifar100 (1).ipynb",
      "provenance": [],
      "collapsed_sections": []
    },
    "accelerator": "GPU"
  },
  "cells": [
    {
      "cell_type": "code",
      "metadata": {
        "_uuid": "3f8bce2f-db46-4c9b-b33a-5872ee43e09d",
        "_cell_guid": "d0f74cb2-a2eb-46e6-ad85-e59ee48867a2",
        "trusted": true,
        "id": "-RPRCmKFQeTx"
      },
      "source": [
        "import os\n",
        "from PIL import Image\n",
        "import numpy as np\n",
        "from IPython.display import display\n",
        "import h5py \n",
        "import cv2\n",
        "import tensorflow as tf\n",
        "from tensorflow import keras\n",
        "import matplotlib.pyplot as plt\n",
        "from keras.layers import Conv2D, BatchNormalization, MaxPool2D, Flatten, Dense, Dropout\n",
        "import os as os\n",
        "import time\n",
        "from keras.datasets import cifar100\n",
        "from keras import backend as K\n",
        "from sklearn.model_selection import train_test_split"
      ],
      "execution_count": null,
      "outputs": []
    },
    {
      "cell_type": "code",
      "metadata": {
        "id": "696BJmxeUqxO"
      },
      "source": [
        "def resize(image, label):\n",
        "    img = tf.image.per_image_standardization(image)\n",
        "    img = tf.image.resize(image, (227,227))\n",
        "    return img, label"
      ],
      "execution_count": null,
      "outputs": []
    },
    {
      "cell_type": "code",
      "metadata": {
        "_uuid": "9d8ef584-dff7-434c-980b-ca7109e57b84",
        "_cell_guid": "8afafc86-2ed3-464e-8457-33035f095af3",
        "trusted": true,
        "id": "KmicrOsAQeUD",
        "colab": {
          "base_uri": "https://localhost:8080/"
        },
        "outputId": "327d321a-e753-4699-ad51-1d87a1dda433"
      },
      "source": [
        "(xtrain, ytrain), (xtest, ytest) = keras.datasets.cifar100.load_data()\n",
        "xtrain, xval, ytrain, yval = train_test_split(xtrain, ytrain, test_size = 0.1, shuffle = True)"
      ],
      "execution_count": null,
      "outputs": [
        {
          "output_type": "stream",
          "text": [
            "Downloading data from https://www.cs.toronto.edu/~kriz/cifar-100-python.tar.gz\n",
            "169009152/169001437 [==============================] - 14s 0us/step\n"
          ],
          "name": "stdout"
        }
      ]
    },
    {
      "cell_type": "code",
      "metadata": {
        "id": "lGXVNIxRgjlc"
      },
      "source": [
        "# xval, yval = xtrain[:5000], ytrain[:5000]"
      ],
      "execution_count": null,
      "outputs": []
    },
    {
      "cell_type": "code",
      "metadata": {
        "id": "Kf-cBwdWUqM4"
      },
      "source": [
        "#creating small dataset using tensors, returns tf dataset representation  \n",
        "dstrain = tf.data.Dataset.from_tensor_slices((xtrain, ytrain))\n",
        "dstest = tf.data.Dataset.from_tensor_slices((xtest, ytest))\n",
        "dsvalidation = tf.data.Dataset.from_tensor_slices((xval, yval))"
      ],
      "execution_count": null,
      "outputs": []
    },
    {
      "cell_type": "code",
      "metadata": {
        "id": "y4gHE_KAVKTI"
      },
      "source": [
        "#getting size of the dataset for buffer in input pipeline\n",
        "train_size = len(list(dstrain))\n",
        "train_size = len(list(dstest))\n",
        "validation_size = len(list(dsvalidation))"
      ],
      "execution_count": null,
      "outputs": []
    },
    {
      "cell_type": "code",
      "metadata": {
        "id": "Gf1-fZNkVKVr"
      },
      "source": [
        "# shuffeling and creating batch of dataset  \n",
        "x_train = (dstrain.map(resize).shuffle(buffer_size=train_size).batch(batch_size=32, drop_remainder=True))\n",
        "x_test = (dstest.map(resize).shuffle(buffer_size=train_size).batch(batch_size=32, drop_remainder=True))\n",
        "x_validation = (dsvalidation.map(resize).shuffle(buffer_size=train_size).batch(batch_size=32, drop_remainder=True))"
      ],
      "execution_count": null,
      "outputs": []
    },
    {
      "cell_type": "code",
      "metadata": {
        "_uuid": "3de43b89-b703-456d-b190-ce40b1235472",
        "_cell_guid": "b17ea0ea-b8f8-42c8-a55e-124b86c8ba34",
        "trusted": true,
        "id": "wr4A6aexQeUo"
      },
      "source": [
        "#AlexNet model structure graph\n",
        "model = keras.models.Sequential([\n",
        "    \n",
        "    Conv2D(filters=96, kernel_size=(11,11), strides=(4,4), activation='relu', input_shape=(227,227,3), name = 'conv1'),\n",
        "    BatchNormalization(),\n",
        "    MaxPool2D(pool_size=(3,3), strides=(2,2)),\n",
        "\n",
        "    Conv2D(filters=256, kernel_size=(5,5), strides=(1,1), activation='relu', padding=\"valid\", name = 'conv2'),\n",
        "    BatchNormalization(),\n",
        "    MaxPool2D(pool_size=(3,3), strides=(2,2)),\n",
        "    \n",
        "    Conv2D(filters=384, kernel_size=(3,3), strides=(1,1), activation='relu', padding=\"valid\", name = 'conv3'),\n",
        "    BatchNormalization(),\n",
        "    \n",
        "    Conv2D(filters=384, kernel_size=(1,1), strides=(1,1), activation='relu', padding=\"valid\", name = 'conv4'),\n",
        "    BatchNormalization(),\n",
        "    \n",
        "    Conv2D(filters=256, kernel_size=(1,1), strides=(1,1), activation='relu', padding=\"valid\", name = 'conv5'),\n",
        "    BatchNormalization(),\n",
        "    MaxPool2D(pool_size=(3,3), strides=(2,2)),\n",
        "    Dropout(0.5),\n",
        "\n",
        "    Flatten(),\n",
        "    \n",
        "    Dense(4096, activation='relu'),\n",
        "    Dropout(0.3),\n",
        "    \n",
        "    Dense(4096, activation='relu'),\n",
        "    Dropout(0.3),\n",
        "    \n",
        "    Dense(100, activation='softmax')\n",
        "])"
      ],
      "execution_count": null,
      "outputs": []
    },
    {
      "cell_type": "code",
      "metadata": {
        "colab": {
          "base_uri": "https://localhost:8080/"
        },
        "id": "5432M3jzYSi_",
        "outputId": "c07ebb31-b0c0-4cc6-8277-95c792fbf871"
      },
      "source": [
        "model.compile(loss='sparse_categorical_crossentropy', optimizer=tf.optimizers.SGD(lr=0.001), metrics=['accuracy'])\n",
        "model.summary()"
      ],
      "execution_count": null,
      "outputs": [
        {
          "output_type": "stream",
          "text": [
            "Model: \"sequential\"\n",
            "_________________________________________________________________\n",
            "Layer (type)                 Output Shape              Param #   \n",
            "=================================================================\n",
            "conv1 (Conv2D)               (None, 55, 55, 96)        34944     \n",
            "_________________________________________________________________\n",
            "batch_normalization (BatchNo (None, 55, 55, 96)        384       \n",
            "_________________________________________________________________\n",
            "max_pooling2d (MaxPooling2D) (None, 27, 27, 96)        0         \n",
            "_________________________________________________________________\n",
            "conv2 (Conv2D)               (None, 23, 23, 256)       614656    \n",
            "_________________________________________________________________\n",
            "batch_normalization_1 (Batch (None, 23, 23, 256)       1024      \n",
            "_________________________________________________________________\n",
            "max_pooling2d_1 (MaxPooling2 (None, 11, 11, 256)       0         \n",
            "_________________________________________________________________\n",
            "conv3 (Conv2D)               (None, 9, 9, 384)         885120    \n",
            "_________________________________________________________________\n",
            "batch_normalization_2 (Batch (None, 9, 9, 384)         1536      \n",
            "_________________________________________________________________\n",
            "conv4 (Conv2D)               (None, 9, 9, 384)         147840    \n",
            "_________________________________________________________________\n",
            "batch_normalization_3 (Batch (None, 9, 9, 384)         1536      \n",
            "_________________________________________________________________\n",
            "conv5 (Conv2D)               (None, 9, 9, 256)         98560     \n",
            "_________________________________________________________________\n",
            "batch_normalization_4 (Batch (None, 9, 9, 256)         1024      \n",
            "_________________________________________________________________\n",
            "max_pooling2d_2 (MaxPooling2 (None, 4, 4, 256)         0         \n",
            "_________________________________________________________________\n",
            "dropout (Dropout)            (None, 4, 4, 256)         0         \n",
            "_________________________________________________________________\n",
            "flatten (Flatten)            (None, 4096)              0         \n",
            "_________________________________________________________________\n",
            "dense (Dense)                (None, 4096)              16781312  \n",
            "_________________________________________________________________\n",
            "dropout_1 (Dropout)          (None, 4096)              0         \n",
            "_________________________________________________________________\n",
            "dense_1 (Dense)              (None, 4096)              16781312  \n",
            "_________________________________________________________________\n",
            "dropout_2 (Dropout)          (None, 4096)              0         \n",
            "_________________________________________________________________\n",
            "dense_2 (Dense)              (None, 100)               409700    \n",
            "=================================================================\n",
            "Total params: 35,758,948\n",
            "Trainable params: 35,756,196\n",
            "Non-trainable params: 2,752\n",
            "_________________________________________________________________\n"
          ],
          "name": "stdout"
        }
      ]
    },
    {
      "cell_type": "code",
      "metadata": {
        "colab": {
          "base_uri": "https://localhost:8080/"
        },
        "id": "OFNlTevOshfT",
        "outputId": "e950e941-c05f-4ea4-d072-4ab95b2360dd"
      },
      "source": [
        "from google.colab import drive\n",
        "drive.mount('/content/drive')"
      ],
      "execution_count": null,
      "outputs": [
        {
          "output_type": "stream",
          "text": [
            "Mounted at /content/drive\n"
          ],
          "name": "stdout"
        }
      ]
    },
    {
      "cell_type": "code",
      "metadata": {
        "id": "gzVy40WI2HWK"
      },
      "source": [
        "#importing pretrained weights\n",
        "weights_dict = np.load('/content/drive/MyDrive/bvlc_alexnet (1).npy', encoding='bytes', allow_pickle=True).item()\n",
        "key = [number for number, name in weights_dict.items()]\n",
        "value = [name for number, name in weights_dict.items()]"
      ],
      "execution_count": null,
      "outputs": []
    },
    {
      "cell_type": "code",
      "metadata": {
        "colab": {
          "base_uri": "https://localhost:8080/"
        },
        "id": "RN-hOjhfBdoy",
        "outputId": "350f567c-1948-4373-bb5e-bb066443d952"
      },
      "source": [
        "for i in range(8):\n",
        "  print(key[i],\":\",value[i][0].shape, \"i = \", i)"
      ],
      "execution_count": null,
      "outputs": [
        {
          "output_type": "stream",
          "text": [
            "fc6 : (9216, 4096) i =  0\n",
            "fc7 : (4096, 4096) i =  1\n",
            "fc8 : (4096, 1000) i =  2\n",
            "conv3 : (3, 3, 256, 384) i =  3\n",
            "conv2 : (5, 5, 48, 256) i =  4\n",
            "conv1 : (11, 11, 3, 96) i =  5\n",
            "conv5 : (3, 3, 192, 256) i =  6\n",
            "conv4 : (3, 3, 192, 384) i =  7\n"
          ],
          "name": "stdout"
        }
      ]
    },
    {
      "cell_type": "code",
      "metadata": {
        "trusted": true,
        "id": "xl4vEm4DQeUv"
      },
      "source": [
        "#setting weights on the layes compatible to the pretrained weights\n",
        "model.get_layer(\"conv1\").set_weights([value[5][0], value[5][1]])\n",
        "model.get_layer(\"conv3\").set_weights([value[3][0], value[3][1]])"
      ],
      "execution_count": null,
      "outputs": []
    },
    {
      "cell_type": "code",
      "metadata": {
        "colab": {
          "base_uri": "https://localhost:8080/"
        },
        "id": "1SFtU5ZIcOKf",
        "outputId": "3b3dc3fa-8dc1-44ee-96e5-89e974ae1f99"
      },
      "source": [
        "#fitting the model \n",
        "model.fit(x_train, epochs = 150, validation_data = x_validation, \n",
        "          validation_freq=1)"
      ],
      "execution_count": null,
      "outputs": [
        {
          "output_type": "stream",
          "text": [
            "Epoch 1/80\n",
            "1406/1406 [==============================] - 60s 43ms/step - loss: 4.8159 - accuracy: 0.0453 - val_loss: 3.7837 - val_accuracy: 0.1593\n",
            "Epoch 2/80\n",
            "1406/1406 [==============================] - 59s 42ms/step - loss: 4.0458 - accuracy: 0.0984 - val_loss: 3.5622 - val_accuracy: 0.1887\n",
            "Epoch 3/80\n",
            "1406/1406 [==============================] - 60s 43ms/step - loss: 3.7920 - accuracy: 0.1300 - val_loss: 3.4064 - val_accuracy: 0.2117\n",
            "Epoch 4/80\n",
            "1406/1406 [==============================] - 61s 43ms/step - loss: 3.5988 - accuracy: 0.1597 - val_loss: 3.2364 - val_accuracy: 0.2302\n",
            "Epoch 5/80\n",
            "1406/1406 [==============================] - 60s 43ms/step - loss: 3.4470 - accuracy: 0.1819 - val_loss: 3.1162 - val_accuracy: 0.2562\n",
            "Epoch 6/80\n",
            "1406/1406 [==============================] - 60s 43ms/step - loss: 3.3205 - accuracy: 0.2028 - val_loss: 3.0584 - val_accuracy: 0.2638\n",
            "Epoch 7/80\n",
            "1406/1406 [==============================] - 60s 43ms/step - loss: 3.1997 - accuracy: 0.2247 - val_loss: 2.9619 - val_accuracy: 0.2790\n",
            "Epoch 8/80\n",
            "1406/1406 [==============================] - 60s 43ms/step - loss: 3.0963 - accuracy: 0.2435 - val_loss: 2.8754 - val_accuracy: 0.2897\n",
            "Epoch 9/80\n",
            "1406/1406 [==============================] - 60s 43ms/step - loss: 2.9983 - accuracy: 0.2600 - val_loss: 2.8299 - val_accuracy: 0.3017\n",
            "Epoch 10/80\n",
            "1406/1406 [==============================] - 60s 43ms/step - loss: 2.9236 - accuracy: 0.2739 - val_loss: 2.7501 - val_accuracy: 0.3093\n",
            "Epoch 11/80\n",
            "1406/1406 [==============================] - 60s 43ms/step - loss: 2.8423 - accuracy: 0.2859 - val_loss: 2.8255 - val_accuracy: 0.3051\n",
            "Epoch 12/80\n",
            "1406/1406 [==============================] - 60s 43ms/step - loss: 2.7703 - accuracy: 0.3043 - val_loss: 2.6256 - val_accuracy: 0.3349\n",
            "Epoch 13/80\n",
            "1406/1406 [==============================] - 61s 43ms/step - loss: 2.7086 - accuracy: 0.3123 - val_loss: 2.7326 - val_accuracy: 0.3247\n",
            "Epoch 14/80\n",
            "1406/1406 [==============================] - 60s 43ms/step - loss: 2.6531 - accuracy: 0.3244 - val_loss: 2.6025 - val_accuracy: 0.3427\n",
            "Epoch 15/80\n",
            "1406/1406 [==============================] - 60s 43ms/step - loss: 2.5970 - accuracy: 0.3349 - val_loss: 2.5833 - val_accuracy: 0.3454\n",
            "Epoch 16/80\n",
            "1406/1406 [==============================] - 60s 43ms/step - loss: 2.5401 - accuracy: 0.3458 - val_loss: 2.5901 - val_accuracy: 0.3488\n",
            "Epoch 17/80\n",
            "1406/1406 [==============================] - 60s 43ms/step - loss: 2.5046 - accuracy: 0.3546 - val_loss: 2.4201 - val_accuracy: 0.3794\n",
            "Epoch 18/80\n",
            "1406/1406 [==============================] - 60s 43ms/step - loss: 2.4528 - accuracy: 0.3653 - val_loss: 2.7237 - val_accuracy: 0.3279\n",
            "Epoch 19/80\n",
            "1406/1406 [==============================] - 60s 43ms/step - loss: 2.4140 - accuracy: 0.3719 - val_loss: 2.5506 - val_accuracy: 0.3550\n",
            "Epoch 20/80\n",
            "1406/1406 [==============================] - 60s 42ms/step - loss: 2.3696 - accuracy: 0.3822 - val_loss: 2.3397 - val_accuracy: 0.3954\n",
            "Epoch 21/80\n",
            "1406/1406 [==============================] - 59s 42ms/step - loss: 2.3261 - accuracy: 0.3924 - val_loss: 2.3647 - val_accuracy: 0.3862\n",
            "Epoch 22/80\n",
            "1406/1406 [==============================] - 59s 42ms/step - loss: 2.2864 - accuracy: 0.4023 - val_loss: 2.4819 - val_accuracy: 0.3752\n",
            "Epoch 23/80\n",
            "1406/1406 [==============================] - 60s 42ms/step - loss: 2.2558 - accuracy: 0.4052 - val_loss: 2.3890 - val_accuracy: 0.3736\n",
            "Epoch 24/80\n",
            "1406/1406 [==============================] - 60s 43ms/step - loss: 2.2257 - accuracy: 0.4120 - val_loss: 2.2756 - val_accuracy: 0.4155\n",
            "Epoch 25/80\n",
            "1406/1406 [==============================] - 60s 43ms/step - loss: 2.1850 - accuracy: 0.4246 - val_loss: 2.2699 - val_accuracy: 0.4147\n",
            "Epoch 26/80\n",
            "1406/1406 [==============================] - 60s 43ms/step - loss: 2.1607 - accuracy: 0.4255 - val_loss: 2.4393 - val_accuracy: 0.3716\n",
            "Epoch 27/80\n",
            "1406/1406 [==============================] - 60s 43ms/step - loss: 2.1284 - accuracy: 0.4362 - val_loss: 2.2417 - val_accuracy: 0.4253\n",
            "Epoch 28/80\n",
            "1406/1406 [==============================] - 60s 43ms/step - loss: 2.0905 - accuracy: 0.4408 - val_loss: 2.1170 - val_accuracy: 0.4441\n",
            "Epoch 29/80\n",
            "1406/1406 [==============================] - 60s 43ms/step - loss: 2.0597 - accuracy: 0.4461 - val_loss: 2.3910 - val_accuracy: 0.3904\n",
            "Epoch 30/80\n",
            "1406/1406 [==============================] - 60s 43ms/step - loss: 2.0351 - accuracy: 0.4545 - val_loss: 2.2118 - val_accuracy: 0.4221\n",
            "Epoch 31/80\n",
            "1406/1406 [==============================] - 60s 43ms/step - loss: 2.0166 - accuracy: 0.4567 - val_loss: 2.2660 - val_accuracy: 0.4145\n",
            "Epoch 32/80\n",
            "1406/1406 [==============================] - 61s 43ms/step - loss: 1.9821 - accuracy: 0.4646 - val_loss: 2.1106 - val_accuracy: 0.4451\n",
            "Epoch 33/80\n",
            "1406/1406 [==============================] - 61s 43ms/step - loss: 1.9506 - accuracy: 0.4710 - val_loss: 2.2820 - val_accuracy: 0.4109\n",
            "Epoch 34/80\n",
            "1406/1406 [==============================] - 60s 43ms/step - loss: 1.9261 - accuracy: 0.4784 - val_loss: 2.2059 - val_accuracy: 0.4301\n",
            "Epoch 35/80\n",
            "1406/1406 [==============================] - 60s 43ms/step - loss: 1.9028 - accuracy: 0.4833 - val_loss: 2.0510 - val_accuracy: 0.4573\n",
            "Epoch 36/80\n",
            "1406/1406 [==============================] - 60s 43ms/step - loss: 1.8825 - accuracy: 0.4853 - val_loss: 2.0860 - val_accuracy: 0.4543\n",
            "Epoch 37/80\n",
            "1406/1406 [==============================] - 61s 43ms/step - loss: 1.8607 - accuracy: 0.4937 - val_loss: 2.3261 - val_accuracy: 0.4113\n",
            "Epoch 38/80\n",
            "1406/1406 [==============================] - 60s 43ms/step - loss: 1.8380 - accuracy: 0.4968 - val_loss: 2.0615 - val_accuracy: 0.4557\n",
            "Epoch 39/80\n",
            "1406/1406 [==============================] - 60s 43ms/step - loss: 1.8084 - accuracy: 0.5032 - val_loss: 1.9753 - val_accuracy: 0.4708\n",
            "Epoch 40/80\n",
            "1406/1406 [==============================] - 60s 43ms/step - loss: 1.7871 - accuracy: 0.5099 - val_loss: 1.9625 - val_accuracy: 0.4782\n",
            "Epoch 41/80\n",
            "1406/1406 [==============================] - 61s 43ms/step - loss: 1.7688 - accuracy: 0.5134 - val_loss: 2.0327 - val_accuracy: 0.4635\n",
            "Epoch 42/80\n",
            "1406/1406 [==============================] - 61s 43ms/step - loss: 1.7404 - accuracy: 0.5193 - val_loss: 1.8960 - val_accuracy: 0.4896\n",
            "Epoch 43/80\n",
            "1406/1406 [==============================] - 60s 43ms/step - loss: 1.7267 - accuracy: 0.5228 - val_loss: 2.0954 - val_accuracy: 0.4503\n",
            "Epoch 44/80\n",
            "1406/1406 [==============================] - 60s 43ms/step - loss: 1.7090 - accuracy: 0.5256 - val_loss: 1.9518 - val_accuracy: 0.4820\n",
            "Epoch 45/80\n",
            "1406/1406 [==============================] - 60s 43ms/step - loss: 1.6760 - accuracy: 0.5344 - val_loss: 1.8652 - val_accuracy: 0.4988\n",
            "Epoch 46/80\n",
            "1406/1406 [==============================] - 61s 43ms/step - loss: 1.6684 - accuracy: 0.5356 - val_loss: 2.0380 - val_accuracy: 0.4619\n",
            "Epoch 47/80\n",
            "1406/1406 [==============================] - 60s 43ms/step - loss: 1.6373 - accuracy: 0.5445 - val_loss: 2.0096 - val_accuracy: 0.4820\n",
            "Epoch 48/80\n",
            "1406/1406 [==============================] - 60s 43ms/step - loss: 1.6279 - accuracy: 0.5437 - val_loss: 1.9554 - val_accuracy: 0.4780\n",
            "Epoch 49/80\n",
            "1406/1406 [==============================] - 60s 43ms/step - loss: 1.5952 - accuracy: 0.5533 - val_loss: 1.8954 - val_accuracy: 0.4978\n",
            "Epoch 50/80\n",
            "1406/1406 [==============================] - 60s 43ms/step - loss: 1.5816 - accuracy: 0.5585 - val_loss: 1.9828 - val_accuracy: 0.4802\n",
            "Epoch 51/80\n",
            "1406/1406 [==============================] - 61s 43ms/step - loss: 1.5752 - accuracy: 0.5585 - val_loss: 1.8615 - val_accuracy: 0.5102\n",
            "Epoch 52/80\n",
            "1406/1406 [==============================] - 61s 43ms/step - loss: 1.5537 - accuracy: 0.5607 - val_loss: 1.9865 - val_accuracy: 0.4804\n",
            "Epoch 53/80\n",
            "1406/1406 [==============================] - 60s 43ms/step - loss: 1.5352 - accuracy: 0.5649 - val_loss: 2.0591 - val_accuracy: 0.4673\n",
            "Epoch 54/80\n",
            "1406/1406 [==============================] - 60s 43ms/step - loss: 1.5126 - accuracy: 0.5710 - val_loss: 1.8888 - val_accuracy: 0.4930\n",
            "Epoch 55/80\n",
            "1406/1406 [==============================] - 61s 43ms/step - loss: 1.4974 - accuracy: 0.5757 - val_loss: 1.9267 - val_accuracy: 0.4964\n",
            "Epoch 56/80\n",
            "1406/1406 [==============================] - 61s 43ms/step - loss: 1.4910 - accuracy: 0.5775 - val_loss: 1.8821 - val_accuracy: 0.5028\n",
            "Epoch 57/80\n",
            "1406/1406 [==============================] - 60s 43ms/step - loss: 1.4664 - accuracy: 0.5836 - val_loss: 1.9208 - val_accuracy: 0.4986\n",
            "Epoch 58/80\n",
            "1406/1406 [==============================] - 60s 43ms/step - loss: 1.4551 - accuracy: 0.5847 - val_loss: 1.8212 - val_accuracy: 0.5146\n",
            "Epoch 59/80\n",
            "1406/1406 [==============================] - 61s 43ms/step - loss: 1.4336 - accuracy: 0.5917 - val_loss: 1.8758 - val_accuracy: 0.5000\n",
            "Epoch 60/80\n",
            "1406/1406 [==============================] - 61s 43ms/step - loss: 1.4139 - accuracy: 0.5951 - val_loss: 1.9126 - val_accuracy: 0.4978\n",
            "Epoch 61/80\n",
            "1406/1406 [==============================] - 60s 43ms/step - loss: 1.4016 - accuracy: 0.5993 - val_loss: 1.9799 - val_accuracy: 0.4848\n",
            "Epoch 62/80\n",
            "1406/1406 [==============================] - 60s 43ms/step - loss: 1.3842 - accuracy: 0.6041 - val_loss: 2.0123 - val_accuracy: 0.4858\n",
            "Epoch 63/80\n",
            "1406/1406 [==============================] - 60s 43ms/step - loss: 1.3640 - accuracy: 0.6057 - val_loss: 1.9701 - val_accuracy: 0.4900\n",
            "Epoch 64/80\n",
            "1406/1406 [==============================] - 60s 43ms/step - loss: 1.3562 - accuracy: 0.6096 - val_loss: 1.7937 - val_accuracy: 0.5254\n",
            "Epoch 65/80\n",
            "1406/1406 [==============================] - 61s 43ms/step - loss: 1.3379 - accuracy: 0.6156 - val_loss: 1.7795 - val_accuracy: 0.5238\n",
            "Epoch 66/80\n",
            "1406/1406 [==============================] - 60s 43ms/step - loss: 1.3189 - accuracy: 0.6179 - val_loss: 1.8413 - val_accuracy: 0.5158\n",
            "Epoch 67/80\n",
            "1406/1406 [==============================] - 61s 43ms/step - loss: 1.3050 - accuracy: 0.6219 - val_loss: 2.0142 - val_accuracy: 0.4850\n",
            "Epoch 68/80\n",
            "1406/1406 [==============================] - 60s 43ms/step - loss: 1.2821 - accuracy: 0.6286 - val_loss: 1.8359 - val_accuracy: 0.5218\n",
            "Epoch 69/80\n",
            "1406/1406 [==============================] - 61s 43ms/step - loss: 1.2754 - accuracy: 0.6296 - val_loss: 1.9830 - val_accuracy: 0.4994\n",
            "Epoch 70/80\n",
            "1406/1406 [==============================] - 60s 43ms/step - loss: 1.2555 - accuracy: 0.6354 - val_loss: 1.7870 - val_accuracy: 0.5315\n",
            "Epoch 71/80\n",
            "1406/1406 [==============================] - 60s 43ms/step - loss: 1.2419 - accuracy: 0.6379 - val_loss: 1.8089 - val_accuracy: 0.5208\n",
            "Epoch 72/80\n",
            "1406/1406 [==============================] - 60s 42ms/step - loss: 1.2242 - accuracy: 0.6423 - val_loss: 1.8506 - val_accuracy: 0.5210\n",
            "Epoch 73/80\n",
            "1406/1406 [==============================] - 60s 43ms/step - loss: 1.2140 - accuracy: 0.6438 - val_loss: 1.8134 - val_accuracy: 0.5292\n",
            "Epoch 74/80\n",
            "1406/1406 [==============================] - 60s 43ms/step - loss: 1.1971 - accuracy: 0.6477 - val_loss: 2.1042 - val_accuracy: 0.4842\n",
            "Epoch 75/80\n",
            "1406/1406 [==============================] - 59s 42ms/step - loss: 1.1813 - accuracy: 0.6538 - val_loss: 1.8771 - val_accuracy: 0.5184\n",
            "Epoch 76/80\n",
            "1406/1406 [==============================] - 58s 41ms/step - loss: 1.1766 - accuracy: 0.6539 - val_loss: 1.7953 - val_accuracy: 0.5337\n",
            "Epoch 77/80\n",
            "1406/1406 [==============================] - 58s 41ms/step - loss: 1.1682 - accuracy: 0.6562 - val_loss: 1.7675 - val_accuracy: 0.5401\n",
            "Epoch 78/80\n",
            "1406/1406 [==============================] - 58s 41ms/step - loss: 1.1492 - accuracy: 0.6621 - val_loss: 1.9782 - val_accuracy: 0.4950\n",
            "Epoch 79/80\n",
            "1406/1406 [==============================] - 58s 41ms/step - loss: 1.1331 - accuracy: 0.6665 - val_loss: 1.8834 - val_accuracy: 0.5228\n",
            "Epoch 80/80\n",
            "1406/1406 [==============================] - 58s 41ms/step - loss: 1.1216 - accuracy: 0.6665 - val_loss: 1.8427 - val_accuracy: 0.5308\n"
          ],
          "name": "stdout"
        },
        {
          "output_type": "execute_result",
          "data": {
            "text/plain": [
              "<tensorflow.python.keras.callbacks.History at 0x7f7f502eca90>"
            ]
          },
          "metadata": {
            "tags": []
          },
          "execution_count": 15
        }
      ]
    },
    {
      "cell_type": "code",
      "metadata": {
        "id": "Eh-MXSFkccSB",
        "colab": {
          "base_uri": "https://localhost:8080/"
        },
        "outputId": "b5d17b49-73cf-4f8e-c20f-6256283805a6"
      },
      "source": [
        "# Evaluating the trained model on the test data\n",
        "model.evaluate(x_test)"
      ],
      "execution_count": null,
      "outputs": [
        {
          "output_type": "stream",
          "text": [
            "312/312 [==============================] - 5s 15ms/step - loss: 1.7726 - accuracy: 0.5378\n"
          ],
          "name": "stdout"
        },
        {
          "output_type": "execute_result",
          "data": {
            "text/plain": [
              "[1.7725964784622192, 0.5377604365348816]"
            ]
          },
          "metadata": {
            "tags": []
          },
          "execution_count": 16
        }
      ]
    }
  ]
}